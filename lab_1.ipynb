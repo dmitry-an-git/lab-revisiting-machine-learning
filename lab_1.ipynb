{
 "cells": [
  {
   "cell_type": "code",
   "execution_count": 12,
   "id": "4fe258e3",
   "metadata": {},
   "outputs": [],
   "source": [
    "import pandas as pd\n",
    "import numpy as np\n",
    "\n",
    "pd.set_option('display.max_columns', None)"
   ]
  },
  {
   "cell_type": "code",
   "execution_count": 13,
   "id": "27617874",
   "metadata": {},
   "outputs": [
    {
     "name": "stderr",
     "output_type": "stream",
     "text": [
      "/Users/ttrofff/opt/anaconda3/lib/python3.9/site-packages/IPython/core/interactiveshell.py:3444: DtypeWarning: Columns (8) have mixed types.Specify dtype option on import or set low_memory=False.\n",
      "  exec(code_obj, self.user_global_ns, self.user_ns)\n"
     ]
    },
    {
     "data": {
      "text/plain": [
       "(95412, 481)"
      ]
     },
     "execution_count": 13,
     "metadata": {},
     "output_type": "execute_result"
    }
   ],
   "source": [
    "data = pd.read_csv('data/learningSet.csv')\n",
    "data.columns = data.columns.str.lower()\n",
    "data.columns = data.columns.str.replace(\" \",\"_\")\n",
    "data.shape"
   ]
  },
  {
   "cell_type": "code",
   "execution_count": 14,
   "id": "1a42ba75",
   "metadata": {},
   "outputs": [
    {
     "data": {
      "text/plain": [
       "int64      310\n",
       "float64     97\n",
       "object      74\n",
       "dtype: int64"
      ]
     },
     "execution_count": 14,
     "metadata": {},
     "output_type": "execute_result"
    }
   ],
   "source": [
    "data.dtypes.value_counts()"
   ]
  },
  {
   "cell_type": "code",
   "execution_count": 15,
   "id": "d81084b5",
   "metadata": {},
   "outputs": [
    {
     "data": {
      "text/plain": [
       "(95412, 74)"
      ]
     },
     "execution_count": 15,
     "metadata": {},
     "output_type": "execute_result"
    }
   ],
   "source": [
    "categorical = data.select_dtypes('object')\n",
    "categorical.shape"
   ]
  },
  {
   "cell_type": "code",
   "execution_count": 16,
   "id": "657b5294",
   "metadata": {},
   "outputs": [
    {
     "data": {
      "text/html": [
       "<div>\n",
       "<style scoped>\n",
       "    .dataframe tbody tr th:only-of-type {\n",
       "        vertical-align: middle;\n",
       "    }\n",
       "\n",
       "    .dataframe tbody tr th {\n",
       "        vertical-align: top;\n",
       "    }\n",
       "\n",
       "    .dataframe thead th {\n",
       "        text-align: right;\n",
       "    }\n",
       "</style>\n",
       "<table border=\"1\" class=\"dataframe\">\n",
       "  <thead>\n",
       "    <tr style=\"text-align: right;\">\n",
       "      <th></th>\n",
       "      <th>column</th>\n",
       "      <th>share</th>\n",
       "    </tr>\n",
       "  </thead>\n",
       "  <tbody>\n",
       "    <tr>\n",
       "      <th>73</th>\n",
       "      <td>geocode2</td>\n",
       "      <td>0.001383</td>\n",
       "    </tr>\n",
       "  </tbody>\n",
       "</table>\n",
       "</div>"
      ],
      "text/plain": [
       "      column     share\n",
       "73  geocode2  0.001383"
      ]
     },
     "execution_count": 16,
     "metadata": {},
     "output_type": "execute_result"
    }
   ],
   "source": [
    "# Check for null values in all the columns\n",
    "\n",
    "nulls = pd.DataFrame(categorical.isna().sum()/len(categorical)).reset_index()\n",
    "nulls.columns = ['column','share']\n",
    "nulls[nulls['share']>0]"
   ]
  },
  {
   "cell_type": "code",
   "execution_count": 17,
   "id": "4e47d545",
   "metadata": {},
   "outputs": [
    {
     "data": {
      "text/plain": [
       "['osource', 'zip']"
      ]
     },
     "execution_count": 17,
     "metadata": {},
     "output_type": "execute_result"
    }
   ],
   "source": [
    "# Exclude the following variables by looking at the definitions. \n",
    "# Create a new empty list called drop_list. We will append this list and then drop all the columns \n",
    "# in this list later\n",
    "## OSOURCE - symbol definitions not provided, too many categories\n",
    "## ZIP CODE - we are including state already\n",
    "\n",
    "drop_list = []\n",
    "drop_list.append('osource')\n",
    "drop_list.append('zip')\n",
    "drop_list"
   ]
  },
  {
   "cell_type": "code",
   "execution_count": 18,
   "id": "39854ee9",
   "metadata": {},
   "outputs": [
    {
     "data": {
      "text/plain": [
       "[]"
      ]
     },
     "execution_count": 18,
     "metadata": {},
     "output_type": "execute_result"
    }
   ],
   "source": [
    "# Identify columns that over 85% missing values\n",
    "\n",
    "def trashhold_na(df,trashhold=0.25):\n",
    "    \n",
    "    nulls = pd.DataFrame(df.isna().sum()/len(data)).reset_index()\n",
    "    nulls.columns = ['column','share']\n",
    "    nulls_above_tr_db = nulls[nulls['share']>trashhold]\n",
    "    nulls_above_tr_list = list(nulls_above_tr_db['column'])\n",
    "    \n",
    "    ## should we include columns with white spaces?\n",
    "    #blanks = pd.DataFrame(data.isin([' ']).sum()/len(data)).reset_index()\n",
    "    #blanks.columns = ['column','share']\n",
    "    #blanks_above_tr_db = blanks[blanks['share']>trashhold]\n",
    "    #blanks_above_tr_list = list(blanks_above_tr_db['column'])\n",
    "    \n",
    "    above_tr_list = nulls_above_tr_list# + blanks_above_tr_list\n",
    "    \n",
    "    return above_tr_list\n",
    "\n",
    "columns_low_data = trashhold_na(categorical,0.85)\n",
    "columns_low_data"
   ]
  },
  {
   "cell_type": "code",
   "execution_count": 8,
   "id": "329a86f5",
   "metadata": {},
   "outputs": [
    {
     "data": {
      "text/plain": [
       "['mailcode',\n",
       " 'pvastate',\n",
       " 'recinhse',\n",
       " 'recp3',\n",
       " 'recpgvg',\n",
       " 'recsweep',\n",
       " 'child03',\n",
       " 'child07',\n",
       " 'child12',\n",
       " 'child18',\n",
       " 'solp3',\n",
       " 'solih',\n",
       " 'major',\n",
       " 'collect1',\n",
       " 'veterans',\n",
       " 'bible',\n",
       " 'catlg',\n",
       " 'homee',\n",
       " 'cdplay',\n",
       " 'stereo',\n",
       " 'pcowners',\n",
       " 'photo',\n",
       " 'crafts',\n",
       " 'fisher',\n",
       " 'gardenin',\n",
       " 'boats',\n",
       " 'walker',\n",
       " 'kidstuff',\n",
       " 'cards',\n",
       " 'plates']"
      ]
     },
     "execution_count": 8,
     "metadata": {},
     "output_type": "execute_result"
    }
   ],
   "source": [
    "# lets check for blanks\n",
    "\n",
    "def trashhold_bl(df,trashhold=0.25):\n",
    "    \n",
    "    blanks = pd.DataFrame(df.isin([' ']).sum()/len(data)).reset_index()\n",
    "    blanks.columns = ['column','share']\n",
    "    blanks_above_tr_db = blanks[blanks['share']>trashhold]\n",
    "    blanks_above_tr_list = list(blanks_above_tr_db['column'])\n",
    "    return blanks_above_tr_list\n",
    "\n",
    "columns_low_data_blanks = trashhold_bl(categorical,0.85)\n",
    "columns_low_data_blanks"
   ]
  },
  {
   "cell_type": "code",
   "execution_count": 19,
   "id": "c016c37f",
   "metadata": {},
   "outputs": [
    {
     "data": {
      "text/plain": [
       "(95412, 74)"
      ]
     },
     "execution_count": 19,
     "metadata": {},
     "output_type": "execute_result"
    }
   ],
   "source": [
    "# Remove those columns from the dataframe\n",
    "# only NAs\n",
    "categorical = categorical.drop(columns_low_data, axis = 1)\n",
    "categorical.shape"
   ]
  },
  {
   "cell_type": "code",
   "execution_count": 20,
   "id": "366e1837",
   "metadata": {},
   "outputs": [
    {
     "name": "stdout",
     "output_type": "stream",
     "text": [
      "F    51277\n",
      "M    39094\n",
      "      2957\n",
      "U     1715\n",
      "J      365\n",
      "C        2\n",
      "A        2\n",
      "Name: gender, dtype: int64\n",
      "F        54234\n",
      "M        39094\n",
      "other     2084\n",
      "Name: gender, dtype: int64\n"
     ]
    }
   ],
   "source": [
    "# Reduce the number of categories in the column GENDER. \n",
    "# The column should only have either \"M\" for males, \"F\" for females, and \"other\" for all the rest\n",
    "\n",
    "# Note that there are a few null values in the column. \n",
    "# We will first replace those null values using the code below:\n",
    "\n",
    "print(categorical['gender'].value_counts())\n",
    "# categorical['gender'].isna().sum() - zero NA\n",
    "# categorical['GENDER'] = categorical['GENDER'].fillna('F')\n",
    "# categorical['gender'].isin([' ']).sum() - but some are blank spaces, should we replace them with F?\n",
    "\n",
    "categorical['gender'] = categorical['gender'].str.replace(' ','F')\n",
    "categorical['gender'] = np.where(~categorical['gender'].isin(['M','F']) , 'other', categorical['gender'])\n",
    "print(categorical['gender'].value_counts())\n"
   ]
  },
  {
   "cell_type": "code",
   "execution_count": null,
   "id": "ed98b4b0",
   "metadata": {},
   "outputs": [],
   "source": []
  }
 ],
 "metadata": {
  "kernelspec": {
   "display_name": "Python 3 (ipykernel)",
   "language": "python",
   "name": "python3"
  },
  "language_info": {
   "codemirror_mode": {
    "name": "ipython",
    "version": 3
   },
   "file_extension": ".py",
   "mimetype": "text/x-python",
   "name": "python",
   "nbconvert_exporter": "python",
   "pygments_lexer": "ipython3",
   "version": "3.9.7"
  }
 },
 "nbformat": 4,
 "nbformat_minor": 5
}
